{
 "cells": [
  {
   "cell_type": "markdown",
   "id": "54f0a698",
   "metadata": {},
   "source": [
    "# NumPy Arrays Basics"
   ]
  },
  {
   "cell_type": "markdown",
   "id": "339c3297",
   "metadata": {},
   "source": [
    "## Package Imports"
   ]
  },
  {
   "cell_type": "code",
   "execution_count": 2,
   "id": "d6f29928",
   "metadata": {},
   "outputs": [],
   "source": [
    "import numpy as np"
   ]
  },
  {
   "cell_type": "code",
   "execution_count": 4,
   "id": "258885e0",
   "metadata": {},
   "outputs": [
    {
     "data": {
      "text/plain": [
       "array([   0,    5,  155,    0,  518,    0, 1827,  616,  317,  325])"
      ]
     },
     "execution_count": 4,
     "metadata": {},
     "output_type": "execute_result"
    }
   ],
   "source": [
    "sales = [0, 5, 155, 0, 518, 0, 1827, 616, 317, 325]\n",
    "sales_array = np.array(sales)\n",
    "sales_array"
   ]
  },
  {
   "cell_type": "code",
   "execution_count": 5,
   "id": "b8fa6422",
   "metadata": {},
   "outputs": [
    {
     "data": {
      "text/plain": [
       "numpy.ndarray"
      ]
     },
     "execution_count": 5,
     "metadata": {},
     "output_type": "execute_result"
    }
   ],
   "source": [
    "type(sales_array) #NumPy arrays are 'ndarray' Python data type i.e n-dimensional array"
   ]
  },
  {
   "cell_type": "markdown",
   "id": "dba31e3b",
   "metadata": {},
   "source": [
    "### NumPy Array Properties"
   ]
  },
  {
   "cell_type": "code",
   "execution_count": 6,
   "id": "ff2c0b50",
   "metadata": {},
   "outputs": [
    {
     "name": "stdout",
     "output_type": "stream",
     "text": [
      "ndim : 1\n",
      "shape : (10,)\n",
      "size : 10\n",
      "dtype : int64\n"
     ]
    }
   ],
   "source": [
    "print(f\"ndim : {sales_array.ndim}\")\n",
    "print(f\"shape : {sales_array.shape}\")\n",
    "print(f\"size : {sales_array.size}\")\n",
    "print(f\"dtype : {sales_array.dtype}\")"
   ]
  },
  {
   "cell_type": "markdown",
   "id": "1189dbe3",
   "metadata": {},
   "source": [
    "#### Multidimensional array"
   ]
  },
  {
   "cell_type": "code",
   "execution_count": 7,
   "id": "64aafd02",
   "metadata": {},
   "outputs": [
    {
     "data": {
      "text/plain": [
       "array([[   0,    5,  155,    0,  518],\n",
       "       [   0, 1827,  616,  317,  325]])"
      ]
     },
     "execution_count": 7,
     "metadata": {},
     "output_type": "execute_result"
    }
   ],
   "source": [
    "sales = [[0, 5, 155, 0, 518], [0, 1827, 616, 317, 325]]\n",
    "sales_array = np.array(sales)\n",
    "sales_array"
   ]
  },
  {
   "cell_type": "code",
   "execution_count": 8,
   "id": "5e743d46",
   "metadata": {},
   "outputs": [
    {
     "name": "stdout",
     "output_type": "stream",
     "text": [
      "ndim : 2\n",
      "shape : (2, 5)\n",
      "size : 10\n",
      "dtype : int64\n"
     ]
    }
   ],
   "source": [
    "print(f\"ndim : {sales_array.ndim}\")\n",
    "print(f\"shape : {sales_array.shape}\")\n",
    "print(f\"size : {sales_array.size}\")\n",
    "print(f\"dtype : {sales_array.dtype}\")"
   ]
  },
  {
   "cell_type": "markdown",
   "id": "7a680730",
   "metadata": {},
   "source": [
    "##### Creating array"
   ]
  },
  {
   "cell_type": "code",
   "execution_count": 12,
   "id": "e2dd4b45",
   "metadata": {},
   "outputs": [
    {
     "data": {
      "text/plain": [
       "array([0, 1, 2, 3, 4])"
      ]
     },
     "execution_count": 12,
     "metadata": {},
     "output_type": "execute_result"
    }
   ],
   "source": [
    "import numpy as np\n",
    "array = np.array(range(5))\n",
    "array"
   ]
  },
  {
   "cell_type": "code",
   "execution_count": 17,
   "id": "8607d483",
   "metadata": {},
   "outputs": [
    {
     "data": {
      "text/plain": [
       "(5,)"
      ]
     },
     "execution_count": 17,
     "metadata": {},
     "output_type": "execute_result"
    }
   ],
   "source": [
    "array.shape"
   ]
  },
  {
   "cell_type": "markdown",
   "id": "bc3c8bb0",
   "metadata": {},
   "source": [
    "##### Two Dimensional Array"
   ]
  },
  {
   "cell_type": "code",
   "execution_count": 15,
   "id": "4c1c750c",
   "metadata": {},
   "outputs": [
    {
     "data": {
      "text/plain": [
       "array([[0, 1, 2, 3, 4],\n",
       "       [0, 1, 2, 3, 4]])"
      ]
     },
     "execution_count": 15,
     "metadata": {},
     "output_type": "execute_result"
    }
   ],
   "source": [
    "array_2d = np.array([range(5), range(5)])\n",
    "array_2d\n"
   ]
  },
  {
   "cell_type": "code",
   "execution_count": 16,
   "id": "305c47b0",
   "metadata": {},
   "outputs": [
    {
     "data": {
      "text/plain": [
       "(2, 5)"
      ]
     },
     "execution_count": 16,
     "metadata": {},
     "output_type": "execute_result"
    }
   ],
   "source": [
    "array_2d.shape  # 2 row, 5 column"
   ]
  },
  {
   "cell_type": "code",
   "execution_count": 18,
   "id": "fe4110fd",
   "metadata": {},
   "outputs": [
    {
     "data": {
      "text/plain": [
       "10"
      ]
     },
     "execution_count": 18,
     "metadata": {},
     "output_type": "execute_result"
    }
   ],
   "source": [
    "array_2d.size"
   ]
  },
  {
   "cell_type": "markdown",
   "id": "5568426a",
   "metadata": {},
   "source": [
    "##### Transposing an array"
   ]
  },
  {
   "cell_type": "code",
   "execution_count": 21,
   "id": "0c416477",
   "metadata": {},
   "outputs": [
    {
     "data": {
      "text/plain": [
       "array([[0, 0],\n",
       "       [1, 1],\n",
       "       [2, 2],\n",
       "       [3, 3],\n",
       "       [4, 4]])"
      ]
     },
     "execution_count": 21,
     "metadata": {},
     "output_type": "execute_result"
    }
   ],
   "source": [
    "array_2d.T"
   ]
  },
  {
   "cell_type": "markdown",
   "id": "1f704883",
   "metadata": {},
   "source": []
  },
  {
   "cell_type": "markdown",
   "id": "a46c63eb",
   "metadata": {},
   "source": [
    "## Assignment 1 - Array Basics\n",
    "Q. Can you convert a Python list into a NumPy array and help me get familiar with their properties?"
   ]
  },
  {
   "cell_type": "code",
   "execution_count": 22,
   "id": "117989a5",
   "metadata": {},
   "outputs": [
    {
     "data": {
      "text/plain": [
       "[10, 20, 30, 40, 50, 60, 70, 80, 90, 100]"
      ]
     },
     "execution_count": 22,
     "metadata": {},
     "output_type": "execute_result"
    }
   ],
   "source": [
    "my_list = [x*10 for x in range(1,11)]\n",
    "my_list"
   ]
  },
  {
   "cell_type": "code",
   "execution_count": 25,
   "id": "ae53166d",
   "metadata": {},
   "outputs": [
    {
     "data": {
      "text/plain": [
       "1"
      ]
     },
     "execution_count": 25,
     "metadata": {},
     "output_type": "execute_result"
    }
   ],
   "source": [
    "my_list_in_numpy = np.array(my_list)\n",
    "my_list_in_numpy"
   ]
  },
  {
   "cell_type": "code",
   "execution_count": 26,
   "id": "67ece8ee",
   "metadata": {},
   "outputs": [
    {
     "name": "stdout",
     "output_type": "stream",
     "text": [
      "ndim : 1\n",
      "shape : (10,)\n",
      "size : 10\n",
      "dtype : int64\n"
     ]
    }
   ],
   "source": [
    "print(f\"ndim : {my_list_in_numpy.ndim}\")\n",
    "print(f\"shape : {my_list_in_numpy.shape}\")\n",
    "print(f\"size : {my_list_in_numpy.size}\")\n",
    "print(f\"dtype : {my_list_in_numpy.dtype}\")"
   ]
  },
  {
   "cell_type": "code",
   "execution_count": null,
   "id": "84c1deca",
   "metadata": {},
   "outputs": [],
   "source": []
  }
 ],
 "metadata": {
  "kernelspec": {
   "display_name": "Python 3 (ipykernel)",
   "language": "python",
   "name": "python3"
  },
  "language_info": {
   "codemirror_mode": {
    "name": "ipython",
    "version": 3
   },
   "file_extension": ".py",
   "mimetype": "text/x-python",
   "name": "python",
   "nbconvert_exporter": "python",
   "pygments_lexer": "ipython3",
   "version": "3.11.3"
  }
 },
 "nbformat": 4,
 "nbformat_minor": 5
}
