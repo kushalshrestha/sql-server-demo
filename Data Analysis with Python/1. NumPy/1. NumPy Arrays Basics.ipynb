{
 "cells": [
  {
   "cell_type": "markdown",
   "id": "b2ee435b",
   "metadata": {},
   "source": [
    "# NumPy Arrays Basics"
   ]
  },
  {
   "cell_type": "markdown",
   "id": "de8b5c8f",
   "metadata": {},
   "source": [
    "## Package Imports"
   ]
  },
  {
   "cell_type": "code",
   "execution_count": 2,
   "id": "29ce886e",
   "metadata": {},
   "outputs": [],
   "source": [
    "import numpy as np"
   ]
  },
  {
   "cell_type": "code",
   "execution_count": 4,
   "id": "152a6219",
   "metadata": {},
   "outputs": [
    {
     "data": {
      "text/plain": [
       "array([   0,    5,  155,    0,  518,    0, 1827,  616,  317,  325])"
      ]
     },
     "execution_count": 4,
     "metadata": {},
     "output_type": "execute_result"
    }
   ],
   "source": [
    "sales = [0, 5, 155, 0, 518, 0, 1827, 616, 317, 325]\n",
    "sales_array = np.array(sales)\n",
    "sales_array"
   ]
  },
  {
   "cell_type": "code",
   "execution_count": 5,
   "id": "76490721",
   "metadata": {},
   "outputs": [
    {
     "data": {
      "text/plain": [
       "numpy.ndarray"
      ]
     },
     "execution_count": 5,
     "metadata": {},
     "output_type": "execute_result"
    }
   ],
   "source": [
    "type(sales_array) #NumPy arrays are 'ndarray' Python data type i.e n-dimensional array"
   ]
  },
  {
   "cell_type": "markdown",
   "id": "4e30b053",
   "metadata": {},
   "source": [
    "### NumPy Array Properties"
   ]
  },
  {
   "cell_type": "code",
   "execution_count": 6,
   "id": "a5b6d2b7",
   "metadata": {},
   "outputs": [
    {
     "name": "stdout",
     "output_type": "stream",
     "text": [
      "ndim : 1\n",
      "shape : (10,)\n",
      "size : 10\n",
      "dtype : int64\n"
     ]
    }
   ],
   "source": [
    "print(f\"ndim : {sales_array.ndim}\")\n",
    "print(f\"shape : {sales_array.shape}\")\n",
    "print(f\"size : {sales_array.size}\")\n",
    "print(f\"dtype : {sales_array.dtype}\")"
   ]
  },
  {
   "cell_type": "markdown",
   "id": "db8a22c9",
   "metadata": {},
   "source": [
    "#### Multidimensional array"
   ]
  },
  {
   "cell_type": "code",
   "execution_count": 7,
   "id": "a3571edb",
   "metadata": {},
   "outputs": [
    {
     "data": {
      "text/plain": [
       "array([[   0,    5,  155,    0,  518],\n",
       "       [   0, 1827,  616,  317,  325]])"
      ]
     },
     "execution_count": 7,
     "metadata": {},
     "output_type": "execute_result"
    }
   ],
   "source": [
    "sales = [[0, 5, 155, 0, 518], [0, 1827, 616, 317, 325]]\n",
    "sales_array = np.array(sales)\n",
    "sales_array"
   ]
  },
  {
   "cell_type": "code",
   "execution_count": 8,
   "id": "4ca530d2",
   "metadata": {},
   "outputs": [
    {
     "name": "stdout",
     "output_type": "stream",
     "text": [
      "ndim : 2\n",
      "shape : (2, 5)\n",
      "size : 10\n",
      "dtype : int64\n"
     ]
    }
   ],
   "source": [
    "print(f\"ndim : {sales_array.ndim}\")\n",
    "print(f\"shape : {sales_array.shape}\")\n",
    "print(f\"size : {sales_array.size}\")\n",
    "print(f\"dtype : {sales_array.dtype}\")"
   ]
  },
  {
   "cell_type": "markdown",
   "id": "55cbc6ec",
   "metadata": {},
   "source": [
    "##### Creating array"
   ]
  },
  {
   "cell_type": "code",
   "execution_count": 12,
   "id": "fb6bedc6",
   "metadata": {},
   "outputs": [
    {
     "data": {
      "text/plain": [
       "array([0, 1, 2, 3, 4])"
      ]
     },
     "execution_count": 12,
     "metadata": {},
     "output_type": "execute_result"
    }
   ],
   "source": [
    "import numpy as np\n",
    "array = np.array(range(5))\n",
    "array"
   ]
  },
  {
   "cell_type": "code",
   "execution_count": 17,
   "id": "32d461e8",
   "metadata": {},
   "outputs": [
    {
     "data": {
      "text/plain": [
       "(5,)"
      ]
     },
     "execution_count": 17,
     "metadata": {},
     "output_type": "execute_result"
    }
   ],
   "source": [
    "array.shape"
   ]
  },
  {
   "cell_type": "markdown",
   "id": "04935f38",
   "metadata": {},
   "source": [
    "##### Two Dimensional Array"
   ]
  },
  {
   "cell_type": "code",
   "execution_count": 15,
   "id": "8c53b80b",
   "metadata": {},
   "outputs": [
    {
     "data": {
      "text/plain": [
       "array([[0, 1, 2, 3, 4],\n",
       "       [0, 1, 2, 3, 4]])"
      ]
     },
     "execution_count": 15,
     "metadata": {},
     "output_type": "execute_result"
    }
   ],
   "source": [
    "array_2d = np.array([range(5), range(5)])\n",
    "array_2d\n"
   ]
  },
  {
   "cell_type": "code",
   "execution_count": 16,
   "id": "e784853e",
   "metadata": {},
   "outputs": [
    {
     "data": {
      "text/plain": [
       "(2, 5)"
      ]
     },
     "execution_count": 16,
     "metadata": {},
     "output_type": "execute_result"
    }
   ],
   "source": [
    "array_2d.shape  # 2 row, 5 column"
   ]
  },
  {
   "cell_type": "code",
   "execution_count": 18,
   "id": "2d44302b",
   "metadata": {},
   "outputs": [
    {
     "data": {
      "text/plain": [
       "10"
      ]
     },
     "execution_count": 18,
     "metadata": {},
     "output_type": "execute_result"
    }
   ],
   "source": [
    "array_2d.size"
   ]
  },
  {
   "cell_type": "markdown",
   "id": "55f35eec",
   "metadata": {},
   "source": [
    "##### Transposing an array"
   ]
  },
  {
   "cell_type": "code",
   "execution_count": 21,
   "id": "ef04b74f",
   "metadata": {},
   "outputs": [
    {
     "data": {
      "text/plain": [
       "array([[0, 0],\n",
       "       [1, 1],\n",
       "       [2, 2],\n",
       "       [3, 3],\n",
       "       [4, 4]])"
      ]
     },
     "execution_count": 21,
     "metadata": {},
     "output_type": "execute_result"
    }
   ],
   "source": [
    "array_2d.T"
   ]
  },
  {
   "cell_type": "markdown",
   "id": "d557e6f9",
   "metadata": {},
   "source": [
    "## Assignment 1 - Array Basics\n",
    "Q. Can you convert a Python list into a NumPy array and help me get familiar with their properties? Once you've done that, report the dimensions, shape, size and dtype"
   ]
  },
  {
   "cell_type": "code",
   "execution_count": 22,
   "id": "b67b6e46",
   "metadata": {},
   "outputs": [
    {
     "data": {
      "text/plain": [
       "[10, 20, 30, 40, 50, 60, 70, 80, 90, 100]"
      ]
     },
     "execution_count": 22,
     "metadata": {},
     "output_type": "execute_result"
    }
   ],
   "source": [
    "my_list = [x*10 for x in range(1,11)]\n",
    "my_list"
   ]
  },
  {
   "cell_type": "code",
   "execution_count": 25,
   "id": "cff32705",
   "metadata": {},
   "outputs": [
    {
     "data": {
      "text/plain": [
       "1"
      ]
     },
     "execution_count": 25,
     "metadata": {},
     "output_type": "execute_result"
    }
   ],
   "source": [
    "my_list_in_numpy = np.array(my_list)\n",
    "my_list_in_numpy"
   ]
  },
  {
   "cell_type": "code",
   "execution_count": 26,
   "id": "89c7c001",
   "metadata": {},
   "outputs": [
    {
     "name": "stdout",
     "output_type": "stream",
     "text": [
      "ndim : 1\n",
      "shape : (10,)\n",
      "size : 10\n",
      "dtype : int64\n"
     ]
    }
   ],
   "source": [
    "print(f\"ndim : {my_list_in_numpy.ndim}\")\n",
    "print(f\"shape : {my_list_in_numpy.shape}\")\n",
    "print(f\"size : {my_list_in_numpy.size}\")\n",
    "print(f\"dtype : {my_list_in_numpy.dtype}\")"
   ]
  }
 ],
 "metadata": {
  "kernelspec": {
   "display_name": "Python 3 (ipykernel)",
   "language": "python",
   "name": "python3"
  },
  "language_info": {
   "codemirror_mode": {
    "name": "ipython",
    "version": 3
   },
   "file_extension": ".py",
   "mimetype": "text/x-python",
   "name": "python",
   "nbconvert_exporter": "python",
   "pygments_lexer": "ipython3",
   "version": "3.11.3"
  }
 },
 "nbformat": 4,
 "nbformat_minor": 5
}
